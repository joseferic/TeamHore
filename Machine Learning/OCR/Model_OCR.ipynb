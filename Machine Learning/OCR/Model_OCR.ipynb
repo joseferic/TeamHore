{
  "nbformat": 4,
  "nbformat_minor": 0,
  "metadata": {
    "colab": {
      "name": "Model_OCR.ipynb",
      "provenance": []
    },
    "kernelspec": {
      "name": "python3",
      "display_name": "Python 3"
    },
    "language_info": {
      "name": "python"
    }
  },
  "cells": [
    {
      "cell_type": "markdown",
      "metadata": {
        "id": "VyvYDuTHaPNc"
      },
      "source": [
        "\n",
        "\n",
        "> Setup libraries & imports\n",
        "\n"
      ]
    },
    {
      "cell_type": "code",
      "metadata": {
        "id": "UmdY3PSiV2ow"
      },
      "source": [
        "import tensorflow as tf\n",
        "import matplotlib.pyplot as plt\n",
        "import numpy as np\n",
        "import cv2\n",
        "\n",
        "from tensorflow.keras.models import Sequential\n",
        "from tensorflow.keras.layers import Dense, Dropout, Activation, Flatten, Conv2D, MaxPooling2D"
      ],
      "execution_count": 1,
      "outputs": []
    },
    {
      "cell_type": "markdown",
      "metadata": {
        "id": "orIKSHbWV8Oi"
      },
      "source": [
        "# Import Dataset from tensorflow dataset"
      ]
    },
    {
      "cell_type": "code",
      "metadata": {
        "colab": {
          "base_uri": "https://localhost:8080/"
        },
        "id": "D-tC8nCX7ZmO",
        "outputId": "c14182d2-7bd6-440e-8628-8855a93e93d1"
      },
      "source": [
        "mnist = tf.keras.datasets.mnist\n",
        "\n",
        "(x_train, y_train), (x_test, y_test) = mnist.load_data()\n",
        "x_train.shape"
      ],
      "execution_count": 2,
      "outputs": [
        {
          "output_type": "stream",
          "text": [
            "Downloading data from https://storage.googleapis.com/tensorflow/tf-keras-datasets/mnist.npz\n",
            "11493376/11490434 [==============================] - 0s 0us/step\n"
          ],
          "name": "stdout"
        },
        {
          "output_type": "execute_result",
          "data": {
            "text/plain": [
              "(60000, 28, 28)"
            ]
          },
          "metadata": {
            "tags": []
          },
          "execution_count": 2
        }
      ]
    },
    {
      "cell_type": "markdown",
      "metadata": {
        "id": "utDJm06pWJgf"
      },
      "source": [
        "\n",
        "\n",
        "> Display one of the images and normalize it\n",
        "\n"
      ]
    },
    {
      "cell_type": "code",
      "metadata": {
        "colab": {
          "base_uri": "https://localhost:8080/",
          "height": 530
        },
        "id": "M3GYdqwN7-fR",
        "outputId": "16578268-7ca4-4ab1-88e5-90907358c7dc"
      },
      "source": [
        "plt.imshow(x_train[1])\n",
        "plt.show()\n",
        "\n",
        "plt.imshow(x_train[1], cmap = plt.cm.binary)"
      ],
      "execution_count": 3,
      "outputs": [
        {
          "output_type": "display_data",
          "data": {
            "image/png": "[encoded data removed]",
            "text/plain": [
              "<Figure size 432x288 with 1 Axes>"
            ]
          },
          "metadata": {
            "tags": [],
            "needs_background": "light"
          }
        },
        {
          "output_type": "execute_result",
          "data": {
            "text/plain": [
              "<matplotlib.image.AxesImage at 0x7f10e9b70250>"
            ]
          },
          "metadata": {
            "tags": []
          },
          "execution_count": 3
        },
        {
          "output_type": "display_data",
          "data": {
            "image/png": "[encoded data removed]",
            "text/plain": [
              "<Figure size 432x288 with 1 Axes>"
            ]
          },
          "metadata": {
            "tags": [],
            "needs_background": "light"
          }
        }
      ]
    },
    {
      "cell_type": "code",
      "metadata": {
        "colab": {
          "base_uri": "https://localhost:8080/",
          "height": 282
        },
        "id": "N_DkTnvw8yCs",
        "outputId": "8f903891-31b0-409c-87f6-1a17277766aa"
      },
      "source": [
        "x_train = tf.keras.utils.normalize (x_train, axis = 1)\n",
        "x_test = tf.keras.utils.normalize (x_test, axis = 1)\n",
        "plt.imshow(x_train[1], cmap = plt.cm.binary)"
      ],
      "execution_count": 5,
      "outputs": [
        {
          "output_type": "execute_result",
          "data": {
            "text/plain": [
              "<matplotlib.image.AxesImage at 0x7f10e9ad4990>"
            ]
          },
          "metadata": {
            "tags": []
          },
          "execution_count": 5
        },
        {
          "output_type": "display_data",
          "data": {
            "image/png": "[encoded data removed]",
            "text/plain": [
              "<Figure size 432x288 with 1 Axes>"
            ]
          },
          "metadata": {
            "tags": [],
            "needs_background": "light"
          }
        }
      ]
    },
    {
      "cell_type": "code",
      "metadata": {
        "colab": {
          "base_uri": "https://localhost:8080/"
        },
        "id": "KmV59dZP9MRA",
        "outputId": "a45378c0-362b-41a5-d2af-d3ee9b32cfe9"
      },
      "source": [
        "print(y_train[1])"
      ],
      "execution_count": 6,
      "outputs": [
        {
          "output_type": "stream",
          "text": [
            "0\n"
          ],
          "name": "stdout"
        }
      ]
    },
    {
      "cell_type": "markdown",
      "metadata": {
        "id": "PH41g4PiWrNS"
      },
      "source": [
        "# Train the model"
      ]
    },
    {
      "cell_type": "code",
      "metadata": {
        "colab": {
          "base_uri": "https://localhost:8080/"
        },
        "id": "jkI02aAI9lCI",
        "outputId": "0ee5b4a8-4ccc-48ed-b9f5-34bf531acb90"
      },
      "source": [
        "IMG_SIZE = 28\n",
        "x_trainr = np.array(x_train).reshape(-1, IMG_SIZE, IMG_SIZE, 1)\n",
        "x_testr = np.array(x_test).reshape(-1, IMG_SIZE, IMG_SIZE, 1)\n",
        "print(\"Training sample dimension\", x_trainr.shape)\n",
        "print(\"Training sample dimension\", x_testr.shape)"
      ],
      "execution_count": 7,
      "outputs": [
        {
          "output_type": "stream",
          "text": [
            "Training sample dimension (60000, 28, 28, 1)\n",
            "Training sample dimension (10000, 28, 28, 1)\n"
          ],
          "name": "stdout"
        }
      ]
    },
    {
      "cell_type": "code",
      "metadata": {
        "id": "bmGPrVJ0-5H3"
      },
      "source": [
        "model = Sequential()\n",
        "model.add(Conv2D(64, (3,3), input_shape = x_trainr.shape[1:]))\n",
        "model.add(Activation(\"relu\"))\n",
        "model.add(MaxPooling2D(pool_size=(2,2)))\n",
        "\n",
        "model.add(Conv2D(64, (3,3)))\n",
        "model.add(Activation(\"relu\"))\n",
        "model.add(MaxPooling2D(pool_size=(2,2)))\n",
        "\n",
        "model.add(Conv2D(64, (3,3)))\n",
        "model.add(Activation(\"relu\"))\n",
        "model.add(MaxPooling2D(pool_size=(2,2)))\n",
        "\n",
        "model.add(Flatten())\n",
        "model.add(Dense(64))\n",
        "model.add(Activation(\"relu\"))\n",
        "\n",
        "model.add(Dense(32))\n",
        "model.add(Activation(\"relu\"))\n",
        "\n",
        "model.add(Dense(10))\n",
        "model.add(Activation(\"softmax\"))"
      ],
      "execution_count": 8,
      "outputs": []
    },
    {
      "cell_type": "code",
      "metadata": {
        "id": "uFvCYF0xCqsr"
      },
      "source": [
        "model.compile(loss = \"sparse_categorical_crossentropy\", \n",
        "              optimizer = \"adam\", \n",
        "              metrics = [\"accuracy\"])"
      ],
      "execution_count": 9,
      "outputs": []
    },
    {
      "cell_type": "code",
      "metadata": {
        "colab": {
          "base_uri": "https://localhost:8080/"
        },
        "id": "5J_jB6ZHC60E",
        "outputId": "192aa890-7796-46a5-fe25-c35d83ac3d93"
      },
      "source": [
        "model.fit(x_trainr,y_train, epochs=5, validation_split= 0.3)"
      ],
      "execution_count": 10,
      "outputs": [
        {
          "output_type": "stream",
          "text": [
            "Epoch 1/5\n",
            "1313/1313 [==============================] - 67s 50ms/step - loss: 0.3237 - accuracy: 0.9007 - val_loss: 0.1360 - val_accuracy: 0.9581\n",
            "Epoch 2/5\n",
            "1313/1313 [==============================] - 66s 50ms/step - loss: 0.1100 - accuracy: 0.9667 - val_loss: 0.0879 - val_accuracy: 0.9724\n",
            "Epoch 3/5\n",
            "1313/1313 [==============================] - 66s 50ms/step - loss: 0.0734 - accuracy: 0.9775 - val_loss: 0.0835 - val_accuracy: 0.9742\n",
            "Epoch 4/5\n",
            "1313/1313 [==============================] - 66s 50ms/step - loss: 0.0573 - accuracy: 0.9821 - val_loss: 0.0745 - val_accuracy: 0.9784\n",
            "Epoch 5/5\n",
            "1313/1313 [==============================] - 66s 50ms/step - loss: 0.0480 - accuracy: 0.9847 - val_loss: 0.0675 - val_accuracy: 0.9788\n"
          ],
          "name": "stdout"
        },
        {
          "output_type": "execute_result",
          "data": {
            "text/plain": [
              "<tensorflow.python.keras.callbacks.History at 0x7f10e9aa0710>"
            ]
          },
          "metadata": {
            "tags": []
          },
          "execution_count": 10
        }
      ]
    },
    {
      "cell_type": "code",
      "metadata": {
        "colab": {
          "base_uri": "https://localhost:8080/"
        },
        "id": "RIfJGefkiraH",
        "outputId": "96483559-fe60-48ed-95b0-81e0aeffaa36"
      },
      "source": [
        "test_loss, test_acc = model.evaluate(x_testr, y_test)\n",
        "print(\"test loss on 10000 test samples:\", test_loss)\n",
        "print(\"Validation accuracy on 10.000 test samples:\", test_acc)"
      ],
      "execution_count": 11,
      "outputs": [
        {
          "output_type": "stream",
          "text": [
            "313/313 [==============================] - 4s 13ms/step - loss: 0.0591 - accuracy: 0.9831\n",
            "test loss on 10000 test samples: 0.059100549668073654\n",
            "Validation accuracy on 10.000 test samples: 0.9830999970436096\n"
          ],
          "name": "stdout"
        }
      ]
    },
    {
      "cell_type": "markdown",
      "metadata": {
        "id": "21CSRCUkXLBf"
      },
      "source": [
        "# Save the model"
      ]
    },
    {
      "cell_type": "code",
      "metadata": {
        "id": "UuUvNrWOmFbn",
        "colab": {
          "base_uri": "https://localhost:8080/"
        },
        "outputId": "7c26eca5-929f-41f1-f16f-eaf67220c696"
      },
      "source": [
        "OCRmodel = \"/content/drive/MyDrive/Project/Dataset OCR/SavedmodelOCR1\"\n",
        "tf.saved_model.save(model, OCRmodel)"
      ],
      "execution_count": 13,
      "outputs": [
        {
          "output_type": "stream",
          "text": [
            "WARNING:tensorflow:FOR KERAS USERS: The object that you are saving contains one or more Keras models or layers. If you are loading the SavedModel with `tf.keras.models.load_model`, continue reading (otherwise, you may ignore the following instructions). Please change your code to save with `tf.keras.models.save_model` or `model.save`, and confirm that the file \"keras.metadata\" exists in the export directory. In the future, Keras will only load the SavedModels that have this file. In other words, `tf.saved_model.save` will no longer write SavedModels that can be recovered as Keras models (this will apply in TF 2.5).\n",
            "\n",
            "FOR DEVS: If you are overwriting _tracking_metadata in your class, this property has been used to save metadata in the SavedModel. The metadta field will be deprecated soon, so please move the metadata to a different file.\n",
            "INFO:tensorflow:Assets written to: /content/drive/MyDrive/Project/Dataset OCR/SavedmodelOCR1/assets\n"
          ],
          "name": "stdout"
        }
      ]
    },
    {
      "cell_type": "markdown",
      "metadata": {
        "id": "NB7xZxr3XVzL"
      },
      "source": [
        "\n",
        "\n",
        "> Convert Model from saved model to Tflite\n",
        "\n"
      ]
    },
    {
      "cell_type": "code",
      "metadata": {
        "id": "iIJRDyTo7fqk"
      },
      "source": [
        "converter = tf.lite.TFLiteConverter.from_saved_model(OCRmodel) # path to the SavedModel directory\n",
        "tflite_model = converter.convert()"
      ],
      "execution_count": 14,
      "outputs": []
    },
    {
      "cell_type": "markdown",
      "metadata": {
        "id": "FRLoPMd2ZAp2"
      },
      "source": [
        "\n",
        "\n",
        "> Save Tflite model (.tflite)\n",
        "\n"
      ]
    },
    {
      "cell_type": "code",
      "metadata": {
        "id": "pUJaEsuo7kGA"
      },
      "source": [
        "with open('/content/drive/MyDrive/Project/Dataset OCR/modelOCR1.tflite', 'wb') as f:\n",
        "  f.write(tflite_model)"
      ],
      "execution_count": 15,
      "outputs": []
    },
    {
      "cell_type": "markdown",
      "metadata": {
        "id": "Edyr6EZ37c-N"
      },
      "source": [
        "# Predict some number from internet and test the accuracy"
      ]
    },
    {
      "cell_type": "code",
      "metadata": {
        "id": "BxC1inC4nZf1"
      },
      "source": [
        "predicions = model.predict([x_testr])"
      ],
      "execution_count": 16,
      "outputs": []
    },
    {
      "cell_type": "code",
      "metadata": {
        "colab": {
          "base_uri": "https://localhost:8080/"
        },
        "id": "YUP2xYWZgsq9",
        "outputId": "9986c2e0-228b-4b47-f4d2-c6afdef1954c"
      },
      "source": [
        "pip install gTTS"
      ],
      "execution_count": 17,
      "outputs": [
        {
          "output_type": "stream",
          "text": [
            "Collecting gTTS\n",
            "  Downloading https://files.pythonhosted.org/packages/5f/b9/94e59337107be134b21ce395a29fc0715b707b560108d6797de2d93e1178/gTTS-2.2.2-py3-none-any.whl\n",
            "Requirement already satisfied: six in /usr/local/lib/python3.7/dist-packages (from gTTS) (1.15.0)\n",
            "Requirement already satisfied: requests in /usr/local/lib/python3.7/dist-packages (from gTTS) (2.23.0)\n",
            "Requirement already satisfied: click in /usr/local/lib/python3.7/dist-packages (from gTTS) (7.1.2)\n",
            "Requirement already satisfied: chardet<4,>=3.0.2 in /usr/local/lib/python3.7/dist-packages (from requests->gTTS) (3.0.4)\n",
            "Requirement already satisfied: certifi>=2017.4.17 in /usr/local/lib/python3.7/dist-packages (from requests->gTTS) (2020.12.5)\n",
            "Requirement already satisfied: urllib3!=1.25.0,!=1.25.1,<1.26,>=1.21.1 in /usr/local/lib/python3.7/dist-packages (from requests->gTTS) (1.24.3)\n",
            "Requirement already satisfied: idna<3,>=2.5 in /usr/local/lib/python3.7/dist-packages (from requests->gTTS) (2.10)\n",
            "Installing collected packages: gTTS\n",
            "Successfully installed gTTS-2.2.2\n"
          ],
          "name": "stdout"
        }
      ]
    },
    {
      "cell_type": "markdown",
      "metadata": {
        "id": "9IZKOapoZsBb"
      },
      "source": [
        "\n",
        "\n",
        "> import an image\n",
        "\n"
      ]
    },
    {
      "cell_type": "code",
      "metadata": {
        "colab": {
          "base_uri": "https://localhost:8080/",
          "height": 286
        },
        "id": "_3O4RgzapgBZ",
        "outputId": "5b0c3f11-3d06-4de3-95a9-9123ebc56bf5"
      },
      "source": [
        "img = cv2.imread('0.png')\n",
        "plt.imshow(img)"
      ],
      "execution_count": 19,
      "outputs": [
        {
          "output_type": "execute_result",
          "data": {
            "text/plain": [
              "<matplotlib.image.AxesImage at 0x7f10deaadf50>"
            ]
          },
          "metadata": {
            "tags": []
          },
          "execution_count": 19
        },
        {
          "output_type": "display_data",
          "data": {
            "image/png": "[encoded data removed]",
            "text/plain": [
              "<Figure size 432x288 with 1 Axes>"
            ]
          },
          "metadata": {
            "tags": [],
            "needs_background": "light"
          }
        }
      ]
    },
    {
      "cell_type": "code",
      "metadata": {
        "id": "payjTkZYpwu2"
      },
      "source": [
        "gray = cv2.cvtColor(img, cv2.COLOR_BGR2GRAY)\n",
        "\n",
        "resized = cv2.resize(gray, (28,28), interpolation = cv2.INTER_AREA)\n",
        "newimg = tf.keras.utils.normalize (resized, axis = 1)\n",
        "newimg = np.array(newimg).reshape(-1, IMG_SIZE, IMG_SIZE, 1)\n",
        "predicions = model.predict(newimg)\n",
        "hasil = np.argmax(predicions)\n",
        "hasilstr = str(hasil)"
      ],
      "execution_count": 20,
      "outputs": []
    },
    {
      "cell_type": "markdown",
      "metadata": {
        "id": "ObnhIvk2Z16S"
      },
      "source": [
        "\n",
        "\n",
        "> Prediction result\n",
        "\n"
      ]
    },
    {
      "cell_type": "code",
      "metadata": {
        "colab": {
          "base_uri": "https://localhost:8080/"
        },
        "id": "dLlKpoYwZ4Rq",
        "outputId": "1b318171-62d0-454d-a70f-972d13b8ebc7"
      },
      "source": [
        "print(hasilstr)"
      ],
      "execution_count": 21,
      "outputs": [
        {
          "output_type": "stream",
          "text": [
            "0\n"
          ],
          "name": "stdout"
        }
      ]
    },
    {
      "cell_type": "markdown",
      "metadata": {
        "id": "jKXJlhcUZfQ1"
      },
      "source": [
        "\n",
        "\n",
        "> Perform text-to-speech\n",
        "\n"
      ]
    },
    {
      "cell_type": "code",
      "metadata": {
        "colab": {
          "base_uri": "https://localhost:8080/",
          "height": 75
        },
        "id": "B24BrD8Be-r4",
        "outputId": "1c64bcb2-e4fb-485e-d712-b6350c0fce49"
      },
      "source": [
        "from gtts import gTTS\n",
        "from IPython.display import Audio\n",
        "tts = gTTS(hasilstr)\n",
        "tts.save('1.wav')\n",
        "sound_file = '1.wav'\n",
        "Audio(sound_file, autoplay=True)"
      ],
      "execution_count": 22,
      "outputs": [
        {
          "output_type": "execute_result",
          "data": {
            "text/html": [
              "\n",
              "                <audio controls=\"controls\" autoplay=\"autoplay\">\n",
              "                    <source src=\"data:audio/x-wav;base64,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\" type=\"audio/x-wav\" />\n",
              "                    Your browser does not support the audio element.\n",
              "                </audio>\n",
              "              "
            ],
            "text/plain": [
              "<IPython.lib.display.Audio object>"
            ]
          },
          "metadata": {
            "tags": []
          },
          "execution_count": 22
        }
      ]
    }
  ]
}