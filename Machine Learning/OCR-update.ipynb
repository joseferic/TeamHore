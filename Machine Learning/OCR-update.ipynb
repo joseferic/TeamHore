# kan di komposisi itu tiap kalimat dipisah oleh koma,nah coba buat query yang rekursif
# tiap pengulangan yang dipisah koma, itu jadi value baru dalam jsonnya
# misal rasyid ganteng, riefky ok, arifatul lasak. nah tiap pengulangan yang dipisah koma, itu di insert ke json obj
# 

pip install easyocr
pip install google-cloud-storage
pip install pandas
pip install opencv-python

import easyocr
reader = easyocr.Reader(['ch_sim','en,']) # need to run only once to load model into memory
result = reader.readtext('https://storage.googleapis.com/product-one-bucket-sample-horeee/IMG_0506-2021-05-23T07%3A02%3A44.867Z.JPG', detail = 0)

from google.cloud import storage
import matplotlib.pyplot as plt
import cv2
import easyocr
from pylab import rcParams
from IPython.display import Image
rcParams['figure.figsize'] = 8, 16

reader = easyocr.Reader(['en'])

#ini cari code biar nerima foto dari backend
# misal INIFOTONYA = *disini fungsi yang nerima foto dari back end misalnya*
# setiap back end ngirim foto, jadi di back end nya itu panggil si kolom ini kebawah

Image("gs://product-one-bucket-sample-horeee/IMG_1678-2021-05-23T07:02:44.867Z.JPG")
# Image(INIFOTONYA)

output = reader.readtext('736e1ea1-db4b-4ba3-a662-a2150357b364.jpg')
# output = reader.readtext('INIFOTONYA')

type(output) 

apani = ""
for i in range(len(output)):
  print((output[i][1]))
  apani = apani+" "+output[i][1]

apani

apani = apani.replace(': ', ', ')
apani = apani.replace('; ', ', ')
apani = apani.replace(';', '')
apani = apani.replace(' (', ', ')
apani = apani.replace(')', ', ')
apani = apani.replace(', , ', ', ')
apani =  apani.replace('. ', '')
apani = apani.replace(' &', ',')
apani = apani.replace(' and', ',')
apani = apani.split(', ')


import json

json_string = json.dumps(apani)
print(json_string)
